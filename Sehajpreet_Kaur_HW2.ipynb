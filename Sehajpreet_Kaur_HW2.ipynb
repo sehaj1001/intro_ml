{
  "nbformat": 4,
  "nbformat_minor": 0,
  "metadata": {
    "colab": {
      "name": "Sehajpreet_Kaur_HW2.ipynb",
      "provenance": [],
      "collapsed_sections": [],
      "include_colab_link": true
    },
    "kernelspec": {
      "name": "python3",
      "display_name": "Python 3"
    }
  },
  "cells": [
    {
      "cell_type": "markdown",
      "metadata": {
        "id": "view-in-github",
        "colab_type": "text"
      },
      "source": [
        "<a href=\"https://colab.research.google.com/github/sehaj1001/intro_ml/blob/main/Sehajpreet_Kaur_HW2.ipynb\" target=\"_parent\"><img src=\"https://colab.research.google.com/assets/colab-badge.svg\" alt=\"Open In Colab\"/></a>"
      ]
    },
    {
      "cell_type": "markdown",
      "metadata": {
        "id": "YOpYSpcxCciI"
      },
      "source": [
        "Q1 (a) Code in the next two sections. This implementation gives the 5-fold cross-validation error for a polynomial of order 5. In order to obtain the same for polynomials of order 9 and 13, please replace the line $model = np.polyfit(x, y, 5)$ with $model = np.polyfit(x, y, 9)$ or $model = np.polyfit(x, y, 13)$ respectively. "
      ]
    },
    {
      "cell_type": "code",
      "metadata": {
        "id": "niZBbq4fFpnC"
      },
      "source": [
        "import numpy as np\n",
        "import pandas as pd\n",
        "import matplotlib.pyplot as plt\n",
        "\n",
        "data = pd.read_csv('hw2data-1.txt', header=None, delimiter=' ', skipinitialspace=True)  # read the data\n",
        "data.columns = ['input', 'output']\n"
      ],
      "execution_count": null,
      "outputs": []
    },
    {
      "cell_type": "code",
      "metadata": {
        "id": "Gfv4FuTBQCYp",
        "colab": {
          "base_uri": "https://localhost:8080/",
          "height": 35
        },
        "outputId": "35faf6f5-8b55-4e0c-d86f-500eb70f742a"
      },
      "source": [
        "k = 5  # 5 fold cross validation\n",
        "block_size = (int) (len(data)/k)  # size of each block\n",
        "kfold_error = 0  # to keep track of avg error\n",
        "\n",
        "for i in range (0, (len(data)-block_size+1), block_size):  # loop over data\n",
        "  \n",
        "  if i==40:  # 51 items, therefore last block has size 11 instead of 10\n",
        "    block_size+=1\n",
        "  \n",
        "  test = data[i:(i+block_size)]  # test data\n",
        "  training1 = data[:i]  # take all input rows above test data\n",
        "  training2 = data[i+block_size:]  # take all input rows below test data\n",
        "  training = pd.concat([training1, training2], axis=0)  # concatenate to get training data\n",
        "  \n",
        "  x = training.input\n",
        "  y = training.output\n",
        "  model = np.polyfit(x, y, 5)  # model of order 5 (change to get polynomials of different orders)\n",
        "  model_output = np.poly1d(model)  # get model output for any x\n",
        "  \n",
        "  mse = 0\n",
        "  \n",
        "  for m in range(len(test)):  # loop over test data\n",
        "    mse += (test.output[i+m]-model_output(test.input[i+m]))**2  # find mse for current data and add\n",
        "  \n",
        "  mse = mse/len(test)  # avg mse for all test data in this iteration of k-fold\n",
        "  kfold_error += mse  # add to k-fold error\n",
        "\n",
        "kfold_error = kfold_error/k  # avg of all errors\n",
        "print('5-Fold Cross-Validation Error for this model:', kfold_error)\n",
        "\n",
        "  "
      ],
      "execution_count": null,
      "outputs": [
        {
          "output_type": "stream",
          "text": [
            "5-Fold Cross-Validation Error for this model: 0.6009591885497325\n"
          ],
          "name": "stdout"
        }
      ]
    },
    {
      "cell_type": "markdown",
      "metadata": {
        "id": "7GJJrl9pDaAD"
      },
      "source": [
        "Q2 (a) Code in the next few sections. Since the output is either Class-1 or Class-2, binary sigmoid is used as the activation function. This network uses online learning."
      ]
    },
    {
      "cell_type": "code",
      "metadata": {
        "id": "X3gwzSDGLfG0"
      },
      "source": [
        "data = pd.read_csv('hw2data-2.txt', header=None, delimiter='\\t', skipinitialspace=True)  # read the data\n",
        "data.columns = ['input1', 'input2', 'output']\n",
        "output = {'Class-1': 0, 'Class-2': 1}  # change output values to binary for easier computation\n",
        "data.output = [output[item] for item in data.output]\n",
        "\n",
        "bias = [1 for i in range(len(data))]\n",
        "data.insert(0, 'bias', bias)  # add bias=1 as the third input for each pattern\n",
        "trainingI = data.loc[:, \"bias\":\"input2\":1].to_numpy()  # holds input training data\n",
        "trainingO = data.loc[:, \"output\": :1].to_numpy()  # holds training data output\n"
      ],
      "execution_count": null,
      "outputs": []
    },
    {
      "cell_type": "code",
      "metadata": {
        "id": "YSop7zzXNw_P"
      },
      "source": [
        "def activation(x):  # activation function used is binary sigmoid\n",
        "  return (1.0/(1.0 + np.exp(-x)))\n",
        "\n",
        "def activationDer(x):  # derivative of binary sigmoid\n",
        "  return (x*(1.0 - x))\n",
        "\n",
        "def forwardPass(weights, x):  # compute forward pass\n",
        "  a = np.dot(weights, x)  # dot product of inputs and corresponding weights\n",
        "  return (activation(a))  # reduce to value between 0 and 1\n",
        "\n",
        "def computeJ(weights, trainingI, trainingO):  # compute the value of J or the cost function\n",
        "  trainingE = 0.0;\n",
        "  for i in range(len(trainingI)):  # for all input patterns\n",
        "    a = forwardPass(weights, trainingI[i])  # compute corresponding output\n",
        "    b = a - trainingO[i]  # difference between model output and given output in training data\n",
        "    trainingE = trainingE + np.dot(b,b)  # add dot product to cost function\n",
        "  return trainingE\n"
      ],
      "execution_count": null,
      "outputs": []
    },
    {
      "cell_type": "code",
      "metadata": {
        "id": "JN0orIDwfS2k"
      },
      "source": [
        "def learn(trainingI, trainingO):  # online learning\n",
        "\n",
        "  weights = np.random.rand(len(trainingO[0]), len(trainingI[0])) - 0.5  # initialise weights randomly between -0.5 and 0.5\n",
        "\n",
        "  J = 1  # cost function\n",
        "  epochs = 0\n",
        "  eta = 0.1  # learning rate\n",
        "  traceE = np.array([])  # to keep track of J\n",
        "\n",
        "  while (J>0.01) and (epochs<500):  # stopping criteria\n",
        "    J = computeJ(weights, trainingI, trainingO)  # compute the value of J\n",
        "    traceE = np.append(traceE, np.array([J]))  # append J so we can trace its decrease\n",
        "    epochs += 1\n",
        "\n",
        "    for i in range(len(trainingI)):  # for all input patterns\n",
        "      a = forwardPass(weights, trainingI[i])  # calculate output using current set of weights\n",
        "\n",
        "      for j in range(len(trainingO[0])):  # for all outputs\n",
        "        for k in range(len(trainingI[0])):  # update weights for each input in direction of gradient descent\n",
        "          weights[j,k] = weights[j,k] + eta * (trainingO[i] - a) * activationDer(a) * trainingI[i,k]  # new w = old w + eta(partial of J)\n",
        "\n",
        "  plt.plot(traceE)  # plot decrease in J over time\n",
        "\n",
        "  return weights  # return weights that minimise J"
      ],
      "execution_count": null,
      "outputs": []
    },
    {
      "cell_type": "code",
      "metadata": {
        "id": "ZylmVAlYdgc1",
        "colab": {
          "base_uri": "https://localhost:8080/",
          "height": 265
        },
        "outputId": "5c21fc77-11b7-41f7-9b49-0add81bedd11"
      },
      "source": [
        "fin_weights = learn(trainingI, trainingO)  # call function learn\n",
        "\n",
        "# for i in range(len(trainingI)):  # to verify model output\n",
        "#   a = forwardPass(fin_weights, trainingI[i])\n",
        "#   print(\">> \", trainingO[i], a)"
      ],
      "execution_count": null,
      "outputs": [
        {
          "output_type": "display_data",
          "data": {
            "image/png": "[encoded data removed]",
            "text/plain": [
              "<Figure size 432x288 with 1 Axes>"
            ]
          },
          "metadata": {
            "tags": [],
            "needs_background": "light"
          }
        }
      ]
    },
    {
      "cell_type": "markdown",
      "metadata": {
        "id": "c27YHif4EJ5b"
      },
      "source": [
        "Q2 (b) Code in the next two sections. This code calls the learn function defined for part (a) on the training data in each iteration of k-fold."
      ]
    },
    {
      "cell_type": "code",
      "metadata": {
        "id": "Vs58nT-gEzRJ",
        "colab": {
          "base_uri": "https://localhost:8080/",
          "height": 300
        },
        "outputId": "62db2a2e-b75c-43c3-aaa3-16617aa90418"
      },
      "source": [
        "k = 5  # 5 fold cross validation\n",
        "block_size = (int) (len(data)/k)  # size of each block\n",
        "gen_error = 0  # to keep track of avg generalisation error\n",
        "\n",
        "for i in range (0, (len(data)-block_size+1), block_size):  # loop over data\n",
        "  \n",
        "  test = data[i:(i+block_size)]  # test data\n",
        "  training1 = data[:i]  # take all input rows above test data\n",
        "  training2 = data[i+block_size:]  # take all input rows below test data\n",
        "  training = pd.concat([training1, training2], axis=0)  # concatenate to get training data\n",
        "  \n",
        "  trainingI = training.loc[:, \"bias\":\"input2\":1].to_numpy()  # holds input training data\n",
        "  trainingO = training.loc[:, \"output\": :1].to_numpy()  # holds training data output\n",
        "  testI = test.loc[:, \"bias\":\"input2\":1].to_numpy()  # holds input test data\n",
        "  testO = test.loc[:, \"output\": :1].to_numpy()  # holds test data output\n",
        "  \n",
        "  fin_weights = learn(trainingI, trainingO) # train the network using (k-1) blocks\n",
        "\n",
        "  mse=0\n",
        "  \n",
        "  for i in range(len(testI)):  # for each test input\n",
        "    a = forwardPass(fin_weights, testI[i])  # get model output\n",
        "    mse += (testO[i]-a)**2  # find mse between actual and model output\n",
        "\n",
        "  mse = mse/len(testI)  # avg mse for all test data in this iteration of k-fold\n",
        "  gen_error += mse  # add to generalisation error\n",
        "\n",
        "gen_error = gen_error/k  # avg of all generalisation errors\n",
        "print('\\n5-Fold estimate of Generalisation Error:', gen_error[0])\n"
      ],
      "execution_count": null,
      "outputs": [
        {
          "output_type": "stream",
          "text": [
            "\n",
            "5-Fold estimate of Generalisation Error: 0.012299296977349057\n"
          ],
          "name": "stdout"
        },
        {
          "output_type": "display_data",
          "data": {
            "image/png": "[encoded data removed]",
            "text/plain": [
              "<Figure size 432x288 with 1 Axes>"
            ]
          },
          "metadata": {
            "tags": [],
            "needs_background": "light"
          }
        }
      ]
    },
    {
      "cell_type": "markdown",
      "metadata": {
        "id": "OAozsj2OQ83J"
      },
      "source": [
        "Q2 (c) Generalisation error is the expectation of the model's error when it sees inputs not part of the training data. An error of 0 implies that the machine can accurately predict output for an input it has not seen before. \n",
        "\n",
        "In part (b), the Generalisation error we got came quite close to 0 but isn't 0 since the model wasn't able to accurately predict the out for every single input in the test data in each iteration of k-fold. This may be because of the small size of our training data (120 patterns) which was insufficient to get a perfect model. As we increase the size of training data, the model is able to learn better and therefore, this error decreases.  "
      ]
    }
  ]
}